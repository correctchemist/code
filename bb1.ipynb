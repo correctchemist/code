{
  "nbformat": 4,
  "nbformat_minor": 0,
  "metadata": {
    "colab": {
      "provenance": [],
      "collapsed_sections": [],
      "authorship_tag": "ABX9TyOePqNGaQ8U/uJpts3O/jd+",
      "include_colab_link": true
    },
    "kernelspec": {
      "name": "python3",
      "display_name": "Python 3"
    },
    "language_info": {
      "name": "python"
    }
  },
  "cells": [
    {
      "cell_type": "markdown",
      "metadata": {
        "id": "view-in-github",
        "colab_type": "text"
      },
      "source": [
        "<a href=\"https://colab.research.google.com/github/correctchemist/code/blob/main/bb1.ipynb\" target=\"_parent\"><img src=\"https://colab.research.google.com/assets/colab-badge.svg\" alt=\"Open In Colab\"/></a>"
      ]
    },
    {
      "cell_type": "markdown",
      "source": [
        "# **My computation Journey on Malaria**\n",
        "**bold text**"
      ],
      "metadata": {
        "id": "RnoJGTbQpMeH"
      }
    },
    {
      "cell_type": "markdown",
      "source": [
        "### **The dihydroorotate dehydrogenase CHEMBL3486**"
      ],
      "metadata": {
        "id": "59llv_XrJFfP"
      }
    },
    {
      "cell_type": "markdown",
      "source": [
        "## **ChEMBL Database**\n",
        "\n",
        "The [*ChEMBL Database*](https://www.ebi.ac.uk/chembl/) is a database that contains curated bioactivity data of more than 2 million compounds. It is compiled from more than 76,000 documents, 1.2 million assays and the data spans 13,000 targets and 1,800 cells and 33,000 indications.\n",
        "[Data as of March 25, 2020; ChEMBL version 26]."
      ],
      "metadata": {
        "id": "WZxMlBMao4Oc"
      }
    },
    {
      "cell_type": "markdown",
      "source": [
        "## **Installing libraries**"
      ],
      "metadata": {
        "id": "72TWGxnUu81E"
      }
    },
    {
      "cell_type": "markdown",
      "source": [
        "Install the ChEMBL web service package so that we can retrieve bioactivity data from the ChEMBL Database."
      ],
      "metadata": {
        "id": "gZmuapaZ1bSz"
      }
    },
    {
      "cell_type": "code",
      "source": [
        "! pip install chembl_webresource_client"
      ],
      "metadata": {
        "colab": {
          "base_uri": "https://localhost:8080/"
        },
        "id": "PdGwp6SgvLBy",
        "outputId": "1b6c6bba-19a1-4ee5-d81e-86d14635f931"
      },
      "execution_count": null,
      "outputs": [
        {
          "output_type": "stream",
          "name": "stdout",
          "text": [
            "Looking in indexes: https://pypi.org/simple, https://us-python.pkg.dev/colab-wheels/public/simple/\n",
            "Requirement already satisfied: chembl_webresource_client in /usr/local/lib/python3.7/dist-packages (0.10.8)\n",
            "Requirement already satisfied: requests>=2.18.4 in /usr/local/lib/python3.7/dist-packages (from chembl_webresource_client) (2.23.0)\n",
            "Requirement already satisfied: requests-cache~=0.7.0 in /usr/local/lib/python3.7/dist-packages (from chembl_webresource_client) (0.7.5)\n",
            "Requirement already satisfied: easydict in /usr/local/lib/python3.7/dist-packages (from chembl_webresource_client) (1.10)\n",
            "Requirement already satisfied: urllib3 in /usr/local/lib/python3.7/dist-packages (from chembl_webresource_client) (1.24.3)\n",
            "Requirement already satisfied: certifi>=2017.4.17 in /usr/local/lib/python3.7/dist-packages (from requests>=2.18.4->chembl_webresource_client) (2022.9.24)\n",
            "Requirement already satisfied: chardet<4,>=3.0.2 in /usr/local/lib/python3.7/dist-packages (from requests>=2.18.4->chembl_webresource_client) (3.0.4)\n",
            "Requirement already satisfied: idna<3,>=2.5 in /usr/local/lib/python3.7/dist-packages (from requests>=2.18.4->chembl_webresource_client) (2.10)\n",
            "Requirement already satisfied: itsdangerous>=2.0.1 in /usr/local/lib/python3.7/dist-packages (from requests-cache~=0.7.0->chembl_webresource_client) (2.1.2)\n",
            "Requirement already satisfied: attrs<22.0,>=21.2 in /usr/local/lib/python3.7/dist-packages (from requests-cache~=0.7.0->chembl_webresource_client) (21.4.0)\n",
            "Requirement already satisfied: pyyaml>=5.4 in /usr/local/lib/python3.7/dist-packages (from requests-cache~=0.7.0->chembl_webresource_client) (6.0)\n",
            "Requirement already satisfied: url-normalize<2.0,>=1.4 in /usr/local/lib/python3.7/dist-packages (from requests-cache~=0.7.0->chembl_webresource_client) (1.4.3)\n",
            "Requirement already satisfied: six in /usr/local/lib/python3.7/dist-packages (from url-normalize<2.0,>=1.4->requests-cache~=0.7.0->chembl_webresource_client) (1.15.0)\n"
          ]
        }
      ]
    },
    {
      "cell_type": "markdown",
      "source": [
        "## **Importing libraries**"
      ],
      "metadata": {
        "id": "jub9AXwAv7kF"
      }
    },
    {
      "cell_type": "code",
      "source": [
        "import pandas as pd\n",
        "from chembl_webresource_client.new_client import new_client"
      ],
      "metadata": {
        "id": "_5Q93JuFwN1V"
      },
      "execution_count": null,
      "outputs": []
    },
    {
      "cell_type": "markdown",
      "source": [
        "## **Search for Target protein**"
      ],
      "metadata": {
        "id": "s5g1T6Tpwc2E"
      }
    },
    {
      "cell_type": "markdown",
      "source": [
        "### **Target search for malaria**"
      ],
      "metadata": {
        "id": "RIgXyqpexArp"
      }
    },
    {
      "cell_type": "markdown",
      "source": [
        "### **Select and retrieve bioactivity data for *dihydroorotate dehydrogenase* (thirty-one entry)**"
      ],
      "metadata": {
        "id": "BZx2iMoi2QQL"
      }
    },
    {
      "cell_type": "code",
      "source": [
        "# Target search for malaria\n",
        "target = new_client.target\n",
        "target_query = target.search('plasmodium falciparum')\n",
        "targets = pd.DataFrame.from_dict(target_query)\n",
        "targets"
      ],
      "metadata": {
        "colab": {
          "base_uri": "https://localhost:8080/",
          "height": 659
        },
        "id": "xaCNbGkAxJnq",
        "outputId": "77f043f1-5266-43c6-9163-3a3ad356ac5a"
      },
      "execution_count": null,
      "outputs": [
        {
          "output_type": "execute_result",
          "data": {
            "text/plain": [
              "                                     cross_references  \\\n",
              "0                                                  []   \n",
              "1                                                  []   \n",
              "2                                                  []   \n",
              "3                                                  []   \n",
              "4                                                  []   \n",
              "..                                                ...   \n",
              "71  [{'xref_id': 'Q27744', 'xref_name': None, 'xre...   \n",
              "72                                                 []   \n",
              "73                                                 []   \n",
              "74                                                 []   \n",
              "75                                                 []   \n",
              "\n",
              "                               organism  \\\n",
              "0                 Plasmodium falciparum   \n",
              "1             Plasmodium falciparum 3D7   \n",
              "2              Plasmodium falciparum D6   \n",
              "3            Plasmodium falciparum NF54   \n",
              "4   Plasmodium falciparum FcB1/Columbia   \n",
              "..                                  ...   \n",
              "71                Plasmodium falciparum   \n",
              "72                Plasmodium falciparum   \n",
              "73                Plasmodium falciparum   \n",
              "74                Plasmodium falciparum   \n",
              "75                Plasmodium falciparum   \n",
              "\n",
              "                                          pref_name  score  \\\n",
              "0                             Plasmodium falciparum   28.0   \n",
              "1                         Plasmodium falciparum 3D7   24.0   \n",
              "2                          Plasmodium falciparum D6   24.0   \n",
              "3                        Plasmodium falciparum NF54   24.0   \n",
              "4   Plasmodium falciparum (isolate FcB1 / Columbia)   19.0   \n",
              "..                                              ...    ...   \n",
              "71                                         Aldolase    8.0   \n",
              "72       HAP protein (Putative aspartic proteinase)    8.0   \n",
              "73                        Glutathione S-transferase    8.0   \n",
              "74               Calcium-dependent protein kinase 1    8.0   \n",
              "75                    CGMP-dependent protein kinase    8.0   \n",
              "\n",
              "    species_group_flag target_chembl_id  \\\n",
              "0                False        CHEMBL364   \n",
              "1                False    CHEMBL2366922   \n",
              "2                False    CHEMBL2367107   \n",
              "3                False    CHEMBL2367131   \n",
              "4                False     CHEMBL612608   \n",
              "..                 ...              ...   \n",
              "71               False       CHEMBL4156   \n",
              "72               False       CHEMBL6075   \n",
              "73               False    CHEMBL1697656   \n",
              "74               False    CHEMBL1908387   \n",
              "75               False    CHEMBL2169724   \n",
              "\n",
              "                                    target_components     target_type  tax_id  \n",
              "0                                                  []        ORGANISM    5833  \n",
              "1                                                  []        ORGANISM   36329  \n",
              "2                                                  []        ORGANISM  478860  \n",
              "3                                                  []        ORGANISM    5843  \n",
              "4                                                  []        ORGANISM  186763  \n",
              "..                                                ...             ...     ...  \n",
              "71  [{'accession': 'Q27744', 'component_descriptio...  SINGLE PROTEIN    5833  \n",
              "72  [{'accession': 'Q9Y006', 'component_descriptio...  SINGLE PROTEIN    5833  \n",
              "73  [{'accession': 'Q8ILQ7', 'component_descriptio...  SINGLE PROTEIN    5833  \n",
              "74  [{'accession': 'P62344', 'component_descriptio...  SINGLE PROTEIN    5833  \n",
              "75  [{'accession': 'W7JX98', 'component_descriptio...  SINGLE PROTEIN    5833  \n",
              "\n",
              "[76 rows x 9 columns]"
            ],
            "text/html": [
              "\n",
              "  <div id=\"df-348f9618-5ef9-40f4-9b6f-3c70ef9ea2bf\">\n",
              "    <div class=\"colab-df-container\">\n",
              "      <div>\n",
              "<style scoped>\n",
              "    .dataframe tbody tr th:only-of-type {\n",
              "        vertical-align: middle;\n",
              "    }\n",
              "\n",
              "    .dataframe tbody tr th {\n",
              "        vertical-align: top;\n",
              "    }\n",
              "\n",
              "    .dataframe thead th {\n",
              "        text-align: right;\n",
              "    }\n",
              "</style>\n",
              "<table border=\"1\" class=\"dataframe\">\n",
              "  <thead>\n",
              "    <tr style=\"text-align: right;\">\n",
              "      <th></th>\n",
              "      <th>cross_references</th>\n",
              "      <th>organism</th>\n",
              "      <th>pref_name</th>\n",
              "      <th>score</th>\n",
              "      <th>species_group_flag</th>\n",
              "      <th>target_chembl_id</th>\n",
              "      <th>target_components</th>\n",
              "      <th>target_type</th>\n",
              "      <th>tax_id</th>\n",
              "    </tr>\n",
              "  </thead>\n",
              "  <tbody>\n",
              "    <tr>\n",
              "      <th>0</th>\n",
              "      <td>[]</td>\n",
              "      <td>Plasmodium falciparum</td>\n",
              "      <td>Plasmodium falciparum</td>\n",
              "      <td>28.0</td>\n",
              "      <td>False</td>\n",
              "      <td>CHEMBL364</td>\n",
              "      <td>[]</td>\n",
              "      <td>ORGANISM</td>\n",
              "      <td>5833</td>\n",
              "    </tr>\n",
              "    <tr>\n",
              "      <th>1</th>\n",
              "      <td>[]</td>\n",
              "      <td>Plasmodium falciparum 3D7</td>\n",
              "      <td>Plasmodium falciparum 3D7</td>\n",
              "      <td>24.0</td>\n",
              "      <td>False</td>\n",
              "      <td>CHEMBL2366922</td>\n",
              "      <td>[]</td>\n",
              "      <td>ORGANISM</td>\n",
              "      <td>36329</td>\n",
              "    </tr>\n",
              "    <tr>\n",
              "      <th>2</th>\n",
              "      <td>[]</td>\n",
              "      <td>Plasmodium falciparum D6</td>\n",
              "      <td>Plasmodium falciparum D6</td>\n",
              "      <td>24.0</td>\n",
              "      <td>False</td>\n",
              "      <td>CHEMBL2367107</td>\n",
              "      <td>[]</td>\n",
              "      <td>ORGANISM</td>\n",
              "      <td>478860</td>\n",
              "    </tr>\n",
              "    <tr>\n",
              "      <th>3</th>\n",
              "      <td>[]</td>\n",
              "      <td>Plasmodium falciparum NF54</td>\n",
              "      <td>Plasmodium falciparum NF54</td>\n",
              "      <td>24.0</td>\n",
              "      <td>False</td>\n",
              "      <td>CHEMBL2367131</td>\n",
              "      <td>[]</td>\n",
              "      <td>ORGANISM</td>\n",
              "      <td>5843</td>\n",
              "    </tr>\n",
              "    <tr>\n",
              "      <th>4</th>\n",
              "      <td>[]</td>\n",
              "      <td>Plasmodium falciparum FcB1/Columbia</td>\n",
              "      <td>Plasmodium falciparum (isolate FcB1 / Columbia)</td>\n",
              "      <td>19.0</td>\n",
              "      <td>False</td>\n",
              "      <td>CHEMBL612608</td>\n",
              "      <td>[]</td>\n",
              "      <td>ORGANISM</td>\n",
              "      <td>186763</td>\n",
              "    </tr>\n",
              "    <tr>\n",
              "      <th>...</th>\n",
              "      <td>...</td>\n",
              "      <td>...</td>\n",
              "      <td>...</td>\n",
              "      <td>...</td>\n",
              "      <td>...</td>\n",
              "      <td>...</td>\n",
              "      <td>...</td>\n",
              "      <td>...</td>\n",
              "      <td>...</td>\n",
              "    </tr>\n",
              "    <tr>\n",
              "      <th>71</th>\n",
              "      <td>[{'xref_id': 'Q27744', 'xref_name': None, 'xre...</td>\n",
              "      <td>Plasmodium falciparum</td>\n",
              "      <td>Aldolase</td>\n",
              "      <td>8.0</td>\n",
              "      <td>False</td>\n",
              "      <td>CHEMBL4156</td>\n",
              "      <td>[{'accession': 'Q27744', 'component_descriptio...</td>\n",
              "      <td>SINGLE PROTEIN</td>\n",
              "      <td>5833</td>\n",
              "    </tr>\n",
              "    <tr>\n",
              "      <th>72</th>\n",
              "      <td>[]</td>\n",
              "      <td>Plasmodium falciparum</td>\n",
              "      <td>HAP protein (Putative aspartic proteinase)</td>\n",
              "      <td>8.0</td>\n",
              "      <td>False</td>\n",
              "      <td>CHEMBL6075</td>\n",
              "      <td>[{'accession': 'Q9Y006', 'component_descriptio...</td>\n",
              "      <td>SINGLE PROTEIN</td>\n",
              "      <td>5833</td>\n",
              "    </tr>\n",
              "    <tr>\n",
              "      <th>73</th>\n",
              "      <td>[]</td>\n",
              "      <td>Plasmodium falciparum</td>\n",
              "      <td>Glutathione S-transferase</td>\n",
              "      <td>8.0</td>\n",
              "      <td>False</td>\n",
              "      <td>CHEMBL1697656</td>\n",
              "      <td>[{'accession': 'Q8ILQ7', 'component_descriptio...</td>\n",
              "      <td>SINGLE PROTEIN</td>\n",
              "      <td>5833</td>\n",
              "    </tr>\n",
              "    <tr>\n",
              "      <th>74</th>\n",
              "      <td>[]</td>\n",
              "      <td>Plasmodium falciparum</td>\n",
              "      <td>Calcium-dependent protein kinase 1</td>\n",
              "      <td>8.0</td>\n",
              "      <td>False</td>\n",
              "      <td>CHEMBL1908387</td>\n",
              "      <td>[{'accession': 'P62344', 'component_descriptio...</td>\n",
              "      <td>SINGLE PROTEIN</td>\n",
              "      <td>5833</td>\n",
              "    </tr>\n",
              "    <tr>\n",
              "      <th>75</th>\n",
              "      <td>[]</td>\n",
              "      <td>Plasmodium falciparum</td>\n",
              "      <td>CGMP-dependent protein kinase</td>\n",
              "      <td>8.0</td>\n",
              "      <td>False</td>\n",
              "      <td>CHEMBL2169724</td>\n",
              "      <td>[{'accession': 'W7JX98', 'component_descriptio...</td>\n",
              "      <td>SINGLE PROTEIN</td>\n",
              "      <td>5833</td>\n",
              "    </tr>\n",
              "  </tbody>\n",
              "</table>\n",
              "<p>76 rows × 9 columns</p>\n",
              "</div>\n",
              "      <button class=\"colab-df-convert\" onclick=\"convertToInteractive('df-348f9618-5ef9-40f4-9b6f-3c70ef9ea2bf')\"\n",
              "              title=\"Convert this dataframe to an interactive table.\"\n",
              "              style=\"display:none;\">\n",
              "        \n",
              "  <svg xmlns=\"http://www.w3.org/2000/svg\" height=\"24px\"viewBox=\"0 0 24 24\"\n",
              "       width=\"24px\">\n",
              "    <path d=\"M0 0h24v24H0V0z\" fill=\"none\"/>\n",
              "    <path d=\"M18.56 5.44l.94 2.06.94-2.06 2.06-.94-2.06-.94-.94-2.06-.94 2.06-2.06.94zm-11 1L8.5 8.5l.94-2.06 2.06-.94-2.06-.94L8.5 2.5l-.94 2.06-2.06.94zm10 10l.94 2.06.94-2.06 2.06-.94-2.06-.94-.94-2.06-.94 2.06-2.06.94z\"/><path d=\"M17.41 7.96l-1.37-1.37c-.4-.4-.92-.59-1.43-.59-.52 0-1.04.2-1.43.59L10.3 9.45l-7.72 7.72c-.78.78-.78 2.05 0 2.83L4 21.41c.39.39.9.59 1.41.59.51 0 1.02-.2 1.41-.59l7.78-7.78 2.81-2.81c.8-.78.8-2.07 0-2.86zM5.41 20L4 18.59l7.72-7.72 1.47 1.35L5.41 20z\"/>\n",
              "  </svg>\n",
              "      </button>\n",
              "      \n",
              "  <style>\n",
              "    .colab-df-container {\n",
              "      display:flex;\n",
              "      flex-wrap:wrap;\n",
              "      gap: 12px;\n",
              "    }\n",
              "\n",
              "    .colab-df-convert {\n",
              "      background-color: #E8F0FE;\n",
              "      border: none;\n",
              "      border-radius: 50%;\n",
              "      cursor: pointer;\n",
              "      display: none;\n",
              "      fill: #1967D2;\n",
              "      height: 32px;\n",
              "      padding: 0 0 0 0;\n",
              "      width: 32px;\n",
              "    }\n",
              "\n",
              "    .colab-df-convert:hover {\n",
              "      background-color: #E2EBFA;\n",
              "      box-shadow: 0px 1px 2px rgba(60, 64, 67, 0.3), 0px 1px 3px 1px rgba(60, 64, 67, 0.15);\n",
              "      fill: #174EA6;\n",
              "    }\n",
              "\n",
              "    [theme=dark] .colab-df-convert {\n",
              "      background-color: #3B4455;\n",
              "      fill: #D2E3FC;\n",
              "    }\n",
              "\n",
              "    [theme=dark] .colab-df-convert:hover {\n",
              "      background-color: #434B5C;\n",
              "      box-shadow: 0px 1px 3px 1px rgba(0, 0, 0, 0.15);\n",
              "      filter: drop-shadow(0px 1px 2px rgba(0, 0, 0, 0.3));\n",
              "      fill: #FFFFFF;\n",
              "    }\n",
              "  </style>\n",
              "\n",
              "      <script>\n",
              "        const buttonEl =\n",
              "          document.querySelector('#df-348f9618-5ef9-40f4-9b6f-3c70ef9ea2bf button.colab-df-convert');\n",
              "        buttonEl.style.display =\n",
              "          google.colab.kernel.accessAllowed ? 'block' : 'none';\n",
              "\n",
              "        async function convertToInteractive(key) {\n",
              "          const element = document.querySelector('#df-348f9618-5ef9-40f4-9b6f-3c70ef9ea2bf');\n",
              "          const dataTable =\n",
              "            await google.colab.kernel.invokeFunction('convertToInteractive',\n",
              "                                                     [key], {});\n",
              "          if (!dataTable) return;\n",
              "\n",
              "          const docLinkHtml = 'Like what you see? Visit the ' +\n",
              "            '<a target=\"_blank\" href=https://colab.research.google.com/notebooks/data_table.ipynb>data table notebook</a>'\n",
              "            + ' to learn more about interactive tables.';\n",
              "          element.innerHTML = '';\n",
              "          dataTable['output_type'] = 'display_data';\n",
              "          await google.colab.output.renderOutput(dataTable, element);\n",
              "          const docLink = document.createElement('div');\n",
              "          docLink.innerHTML = docLinkHtml;\n",
              "          element.appendChild(docLink);\n",
              "        }\n",
              "      </script>\n",
              "    </div>\n",
              "  </div>\n",
              "  "
            ]
          },
          "metadata": {},
          "execution_count": 40
        }
      ]
    },
    {
      "cell_type": "markdown",
      "source": [
        "### **Select and retrieve bioactivity data for *Dihydroorotate dehydrogenase* (thirty-one entry)**"
      ],
      "metadata": {
        "id": "FvWzccoO8xof"
      }
    },
    {
      "cell_type": "markdown",
      "source": [
        "We will assign the fifth entry (which corresponds to the target protein, *dihydroorotate dehydrogenase*) to the ***selected_target*** variable "
      ],
      "metadata": {
        "id": "E__fZXHM9ji7"
      }
    },
    {
      "cell_type": "markdown",
      "source": [],
      "metadata": {
        "id": "RrOSXj4s-RPf"
      }
    },
    {
      "cell_type": "code",
      "source": [
        "selected_target = targets.target_chembl_id[30]\n",
        "selected_target"
      ],
      "metadata": {
        "colab": {
          "base_uri": "https://localhost:8080/",
          "height": 35
        },
        "id": "FTrvdYkk95tR",
        "outputId": "ff23f15a-be1f-49ec-d3d2-76aeb66f9f01"
      },
      "execution_count": null,
      "outputs": [
        {
          "output_type": "execute_result",
          "data": {
            "text/plain": [
              "'CHEMBL3486'"
            ],
            "application/vnd.google.colaboratory.intrinsic+json": {
              "type": "string"
            }
          },
          "metadata": {},
          "execution_count": 12
        }
      ]
    },
    {
      "cell_type": "markdown",
      "source": [
        "Here, we will retrieve only bioactivity data for *dihydroorotate dehydrogenase* (CHEMBL3486) that are reported as IC$_{50}$ values in nM (nanomolar) unit."
      ],
      "metadata": {
        "id": "mqTm8P0G-TcO"
      }
    },
    {
      "cell_type": "code",
      "source": [
        "activity = new_client.activity\n",
        "res = activity.filter(target_chembl_id=selected_target).filter(standard_type=\"IC50\")"
      ],
      "metadata": {
        "id": "SGyh17E7-9aD"
      },
      "execution_count": null,
      "outputs": []
    },
    {
      "cell_type": "code",
      "source": [
        "df = pd.DataFrame.from_dict(res)"
      ],
      "metadata": {
        "id": "tlFRTUnw_NZ-"
      },
      "execution_count": null,
      "outputs": []
    },
    {
      "cell_type": "code",
      "source": [
        "df.head(700)"
      ],
      "metadata": {
        "colab": {
          "base_uri": "https://localhost:8080/",
          "height": 922
        },
        "id": "tSspgPY3_mzI",
        "outputId": "85f3e956-1eaa-4091-9aef-e86eb662feb7"
      },
      "execution_count": null,
      "outputs": [
        {
          "output_type": "execute_result",
          "data": {
            "text/plain": [
              "    activity_comment  activity_id activity_properties assay_chembl_id  \\\n",
              "0               None      1662473                  []    CHEMBL863916   \n",
              "1               None      1662477                  []    CHEMBL863916   \n",
              "2               None      1662479                  []    CHEMBL863916   \n",
              "3               None      1662481                  []    CHEMBL863916   \n",
              "4               None      1662493                  []    CHEMBL863916   \n",
              "..               ...          ...                 ...             ...   \n",
              "597             None     18951322                  []   CHEMBL4331522   \n",
              "598             None     18951323                  []   CHEMBL4331522   \n",
              "599             None     18951324                  []   CHEMBL4331522   \n",
              "600             None     19145102                  []   CHEMBL4378107   \n",
              "601             None     19145103                  []   CHEMBL4378107   \n",
              "\n",
              "                                     assay_description assay_type  \\\n",
              "0      Binding affinity to Plasmodium falciparum DHODH          B   \n",
              "1      Binding affinity to Plasmodium falciparum DHODH          B   \n",
              "2      Binding affinity to Plasmodium falciparum DHODH          B   \n",
              "3      Binding affinity to Plasmodium falciparum DHODH          B   \n",
              "4      Binding affinity to Plasmodium falciparum DHODH          B   \n",
              "..                                                 ...        ...   \n",
              "597  Inhibition of Plasmodium falciparum recombinan...          B   \n",
              "598  Inhibition of Plasmodium falciparum recombinan...          B   \n",
              "599  Inhibition of Plasmodium falciparum recombinan...          B   \n",
              "600  Inhibition of Plasmodium falciparum DHODH expr...          B   \n",
              "601  Inhibition of Plasmodium falciparum DHODH expr...          B   \n",
              "\n",
              "    assay_variant_accession assay_variant_mutation bao_endpoint   bao_format  \\\n",
              "0                      None                   None  BAO_0000190  BAO_0000357   \n",
              "1                      None                   None  BAO_0000190  BAO_0000357   \n",
              "2                      None                   None  BAO_0000190  BAO_0000357   \n",
              "3                      None                   None  BAO_0000190  BAO_0000357   \n",
              "4                      None                   None  BAO_0000190  BAO_0000357   \n",
              "..                      ...                    ...          ...          ...   \n",
              "597                    None                   None  BAO_0000190  BAO_0000019   \n",
              "598                    None                   None  BAO_0000190  BAO_0000019   \n",
              "599                    None                   None  BAO_0000190  BAO_0000019   \n",
              "600                    None                   None  BAO_0000190  BAO_0000019   \n",
              "601                    None                   None  BAO_0000190  BAO_0000019   \n",
              "\n",
              "     ...        target_organism              target_pref_name target_tax_id  \\\n",
              "0    ...  Plasmodium falciparum  Dihydroorotate dehydrogenase          5833   \n",
              "1    ...  Plasmodium falciparum  Dihydroorotate dehydrogenase          5833   \n",
              "2    ...  Plasmodium falciparum  Dihydroorotate dehydrogenase          5833   \n",
              "3    ...  Plasmodium falciparum  Dihydroorotate dehydrogenase          5833   \n",
              "4    ...  Plasmodium falciparum  Dihydroorotate dehydrogenase          5833   \n",
              "..   ...                    ...                           ...           ...   \n",
              "597  ...  Plasmodium falciparum  Dihydroorotate dehydrogenase          5833   \n",
              "598  ...  Plasmodium falciparum  Dihydroorotate dehydrogenase          5833   \n",
              "599  ...  Plasmodium falciparum  Dihydroorotate dehydrogenase          5833   \n",
              "600  ...  Plasmodium falciparum  Dihydroorotate dehydrogenase          5833   \n",
              "601  ...  Plasmodium falciparum  Dihydroorotate dehydrogenase          5833   \n",
              "\n",
              "    text_value  toid  type  units    uo_units upper_value  value  \n",
              "0         None  None  IC50     uM  UO_0000065        None   42.6  \n",
              "1         None  None  IC50     uM  UO_0000065        None  142.6  \n",
              "2         None  None  IC50     uM  UO_0000065        None   93.4  \n",
              "3         None  None  IC50     uM  UO_0000065        None  153.5  \n",
              "4         None  None  IC50     uM  UO_0000065        None  200.0  \n",
              "..         ...   ...   ...    ...         ...         ...    ...  \n",
              "597       None  None  IC50     uM  UO_0000065        None  250.0  \n",
              "598       None  None  IC50     uM  UO_0000065        None  250.0  \n",
              "599       None  None  IC50     uM  UO_0000065        None  250.0  \n",
              "600       None  None  IC50     uM  UO_0000065        None   0.01  \n",
              "601       None  None  IC50     uM  UO_0000065        None   0.01  \n",
              "\n",
              "[602 rows x 45 columns]"
            ],
            "text/html": [
              "\n",
              "  <div id=\"df-a80c4457-cc31-4473-ac99-4ab7019a569e\">\n",
              "    <div class=\"colab-df-container\">\n",
              "      <div>\n",
              "<style scoped>\n",
              "    .dataframe tbody tr th:only-of-type {\n",
              "        vertical-align: middle;\n",
              "    }\n",
              "\n",
              "    .dataframe tbody tr th {\n",
              "        vertical-align: top;\n",
              "    }\n",
              "\n",
              "    .dataframe thead th {\n",
              "        text-align: right;\n",
              "    }\n",
              "</style>\n",
              "<table border=\"1\" class=\"dataframe\">\n",
              "  <thead>\n",
              "    <tr style=\"text-align: right;\">\n",
              "      <th></th>\n",
              "      <th>activity_comment</th>\n",
              "      <th>activity_id</th>\n",
              "      <th>activity_properties</th>\n",
              "      <th>assay_chembl_id</th>\n",
              "      <th>assay_description</th>\n",
              "      <th>assay_type</th>\n",
              "      <th>assay_variant_accession</th>\n",
              "      <th>assay_variant_mutation</th>\n",
              "      <th>bao_endpoint</th>\n",
              "      <th>bao_format</th>\n",
              "      <th>...</th>\n",
              "      <th>target_organism</th>\n",
              "      <th>target_pref_name</th>\n",
              "      <th>target_tax_id</th>\n",
              "      <th>text_value</th>\n",
              "      <th>toid</th>\n",
              "      <th>type</th>\n",
              "      <th>units</th>\n",
              "      <th>uo_units</th>\n",
              "      <th>upper_value</th>\n",
              "      <th>value</th>\n",
              "    </tr>\n",
              "  </thead>\n",
              "  <tbody>\n",
              "    <tr>\n",
              "      <th>0</th>\n",
              "      <td>None</td>\n",
              "      <td>1662473</td>\n",
              "      <td>[]</td>\n",
              "      <td>CHEMBL863916</td>\n",
              "      <td>Binding affinity to Plasmodium falciparum DHODH</td>\n",
              "      <td>B</td>\n",
              "      <td>None</td>\n",
              "      <td>None</td>\n",
              "      <td>BAO_0000190</td>\n",
              "      <td>BAO_0000357</td>\n",
              "      <td>...</td>\n",
              "      <td>Plasmodium falciparum</td>\n",
              "      <td>Dihydroorotate dehydrogenase</td>\n",
              "      <td>5833</td>\n",
              "      <td>None</td>\n",
              "      <td>None</td>\n",
              "      <td>IC50</td>\n",
              "      <td>uM</td>\n",
              "      <td>UO_0000065</td>\n",
              "      <td>None</td>\n",
              "      <td>42.6</td>\n",
              "    </tr>\n",
              "    <tr>\n",
              "      <th>1</th>\n",
              "      <td>None</td>\n",
              "      <td>1662477</td>\n",
              "      <td>[]</td>\n",
              "      <td>CHEMBL863916</td>\n",
              "      <td>Binding affinity to Plasmodium falciparum DHODH</td>\n",
              "      <td>B</td>\n",
              "      <td>None</td>\n",
              "      <td>None</td>\n",
              "      <td>BAO_0000190</td>\n",
              "      <td>BAO_0000357</td>\n",
              "      <td>...</td>\n",
              "      <td>Plasmodium falciparum</td>\n",
              "      <td>Dihydroorotate dehydrogenase</td>\n",
              "      <td>5833</td>\n",
              "      <td>None</td>\n",
              "      <td>None</td>\n",
              "      <td>IC50</td>\n",
              "      <td>uM</td>\n",
              "      <td>UO_0000065</td>\n",
              "      <td>None</td>\n",
              "      <td>142.6</td>\n",
              "    </tr>\n",
              "    <tr>\n",
              "      <th>2</th>\n",
              "      <td>None</td>\n",
              "      <td>1662479</td>\n",
              "      <td>[]</td>\n",
              "      <td>CHEMBL863916</td>\n",
              "      <td>Binding affinity to Plasmodium falciparum DHODH</td>\n",
              "      <td>B</td>\n",
              "      <td>None</td>\n",
              "      <td>None</td>\n",
              "      <td>BAO_0000190</td>\n",
              "      <td>BAO_0000357</td>\n",
              "      <td>...</td>\n",
              "      <td>Plasmodium falciparum</td>\n",
              "      <td>Dihydroorotate dehydrogenase</td>\n",
              "      <td>5833</td>\n",
              "      <td>None</td>\n",
              "      <td>None</td>\n",
              "      <td>IC50</td>\n",
              "      <td>uM</td>\n",
              "      <td>UO_0000065</td>\n",
              "      <td>None</td>\n",
              "      <td>93.4</td>\n",
              "    </tr>\n",
              "    <tr>\n",
              "      <th>3</th>\n",
              "      <td>None</td>\n",
              "      <td>1662481</td>\n",
              "      <td>[]</td>\n",
              "      <td>CHEMBL863916</td>\n",
              "      <td>Binding affinity to Plasmodium falciparum DHODH</td>\n",
              "      <td>B</td>\n",
              "      <td>None</td>\n",
              "      <td>None</td>\n",
              "      <td>BAO_0000190</td>\n",
              "      <td>BAO_0000357</td>\n",
              "      <td>...</td>\n",
              "      <td>Plasmodium falciparum</td>\n",
              "      <td>Dihydroorotate dehydrogenase</td>\n",
              "      <td>5833</td>\n",
              "      <td>None</td>\n",
              "      <td>None</td>\n",
              "      <td>IC50</td>\n",
              "      <td>uM</td>\n",
              "      <td>UO_0000065</td>\n",
              "      <td>None</td>\n",
              "      <td>153.5</td>\n",
              "    </tr>\n",
              "    <tr>\n",
              "      <th>4</th>\n",
              "      <td>None</td>\n",
              "      <td>1662493</td>\n",
              "      <td>[]</td>\n",
              "      <td>CHEMBL863916</td>\n",
              "      <td>Binding affinity to Plasmodium falciparum DHODH</td>\n",
              "      <td>B</td>\n",
              "      <td>None</td>\n",
              "      <td>None</td>\n",
              "      <td>BAO_0000190</td>\n",
              "      <td>BAO_0000357</td>\n",
              "      <td>...</td>\n",
              "      <td>Plasmodium falciparum</td>\n",
              "      <td>Dihydroorotate dehydrogenase</td>\n",
              "      <td>5833</td>\n",
              "      <td>None</td>\n",
              "      <td>None</td>\n",
              "      <td>IC50</td>\n",
              "      <td>uM</td>\n",
              "      <td>UO_0000065</td>\n",
              "      <td>None</td>\n",
              "      <td>200.0</td>\n",
              "    </tr>\n",
              "    <tr>\n",
              "      <th>...</th>\n",
              "      <td>...</td>\n",
              "      <td>...</td>\n",
              "      <td>...</td>\n",
              "      <td>...</td>\n",
              "      <td>...</td>\n",
              "      <td>...</td>\n",
              "      <td>...</td>\n",
              "      <td>...</td>\n",
              "      <td>...</td>\n",
              "      <td>...</td>\n",
              "      <td>...</td>\n",
              "      <td>...</td>\n",
              "      <td>...</td>\n",
              "      <td>...</td>\n",
              "      <td>...</td>\n",
              "      <td>...</td>\n",
              "      <td>...</td>\n",
              "      <td>...</td>\n",
              "      <td>...</td>\n",
              "      <td>...</td>\n",
              "      <td>...</td>\n",
              "    </tr>\n",
              "    <tr>\n",
              "      <th>597</th>\n",
              "      <td>None</td>\n",
              "      <td>18951322</td>\n",
              "      <td>[]</td>\n",
              "      <td>CHEMBL4331522</td>\n",
              "      <td>Inhibition of Plasmodium falciparum recombinan...</td>\n",
              "      <td>B</td>\n",
              "      <td>None</td>\n",
              "      <td>None</td>\n",
              "      <td>BAO_0000190</td>\n",
              "      <td>BAO_0000019</td>\n",
              "      <td>...</td>\n",
              "      <td>Plasmodium falciparum</td>\n",
              "      <td>Dihydroorotate dehydrogenase</td>\n",
              "      <td>5833</td>\n",
              "      <td>None</td>\n",
              "      <td>None</td>\n",
              "      <td>IC50</td>\n",
              "      <td>uM</td>\n",
              "      <td>UO_0000065</td>\n",
              "      <td>None</td>\n",
              "      <td>250.0</td>\n",
              "    </tr>\n",
              "    <tr>\n",
              "      <th>598</th>\n",
              "      <td>None</td>\n",
              "      <td>18951323</td>\n",
              "      <td>[]</td>\n",
              "      <td>CHEMBL4331522</td>\n",
              "      <td>Inhibition of Plasmodium falciparum recombinan...</td>\n",
              "      <td>B</td>\n",
              "      <td>None</td>\n",
              "      <td>None</td>\n",
              "      <td>BAO_0000190</td>\n",
              "      <td>BAO_0000019</td>\n",
              "      <td>...</td>\n",
              "      <td>Plasmodium falciparum</td>\n",
              "      <td>Dihydroorotate dehydrogenase</td>\n",
              "      <td>5833</td>\n",
              "      <td>None</td>\n",
              "      <td>None</td>\n",
              "      <td>IC50</td>\n",
              "      <td>uM</td>\n",
              "      <td>UO_0000065</td>\n",
              "      <td>None</td>\n",
              "      <td>250.0</td>\n",
              "    </tr>\n",
              "    <tr>\n",
              "      <th>599</th>\n",
              "      <td>None</td>\n",
              "      <td>18951324</td>\n",
              "      <td>[]</td>\n",
              "      <td>CHEMBL4331522</td>\n",
              "      <td>Inhibition of Plasmodium falciparum recombinan...</td>\n",
              "      <td>B</td>\n",
              "      <td>None</td>\n",
              "      <td>None</td>\n",
              "      <td>BAO_0000190</td>\n",
              "      <td>BAO_0000019</td>\n",
              "      <td>...</td>\n",
              "      <td>Plasmodium falciparum</td>\n",
              "      <td>Dihydroorotate dehydrogenase</td>\n",
              "      <td>5833</td>\n",
              "      <td>None</td>\n",
              "      <td>None</td>\n",
              "      <td>IC50</td>\n",
              "      <td>uM</td>\n",
              "      <td>UO_0000065</td>\n",
              "      <td>None</td>\n",
              "      <td>250.0</td>\n",
              "    </tr>\n",
              "    <tr>\n",
              "      <th>600</th>\n",
              "      <td>None</td>\n",
              "      <td>19145102</td>\n",
              "      <td>[]</td>\n",
              "      <td>CHEMBL4378107</td>\n",
              "      <td>Inhibition of Plasmodium falciparum DHODH expr...</td>\n",
              "      <td>B</td>\n",
              "      <td>None</td>\n",
              "      <td>None</td>\n",
              "      <td>BAO_0000190</td>\n",
              "      <td>BAO_0000019</td>\n",
              "      <td>...</td>\n",
              "      <td>Plasmodium falciparum</td>\n",
              "      <td>Dihydroorotate dehydrogenase</td>\n",
              "      <td>5833</td>\n",
              "      <td>None</td>\n",
              "      <td>None</td>\n",
              "      <td>IC50</td>\n",
              "      <td>uM</td>\n",
              "      <td>UO_0000065</td>\n",
              "      <td>None</td>\n",
              "      <td>0.01</td>\n",
              "    </tr>\n",
              "    <tr>\n",
              "      <th>601</th>\n",
              "      <td>None</td>\n",
              "      <td>19145103</td>\n",
              "      <td>[]</td>\n",
              "      <td>CHEMBL4378107</td>\n",
              "      <td>Inhibition of Plasmodium falciparum DHODH expr...</td>\n",
              "      <td>B</td>\n",
              "      <td>None</td>\n",
              "      <td>None</td>\n",
              "      <td>BAO_0000190</td>\n",
              "      <td>BAO_0000019</td>\n",
              "      <td>...</td>\n",
              "      <td>Plasmodium falciparum</td>\n",
              "      <td>Dihydroorotate dehydrogenase</td>\n",
              "      <td>5833</td>\n",
              "      <td>None</td>\n",
              "      <td>None</td>\n",
              "      <td>IC50</td>\n",
              "      <td>uM</td>\n",
              "      <td>UO_0000065</td>\n",
              "      <td>None</td>\n",
              "      <td>0.01</td>\n",
              "    </tr>\n",
              "  </tbody>\n",
              "</table>\n",
              "<p>602 rows × 45 columns</p>\n",
              "</div>\n",
              "      <button class=\"colab-df-convert\" onclick=\"convertToInteractive('df-a80c4457-cc31-4473-ac99-4ab7019a569e')\"\n",
              "              title=\"Convert this dataframe to an interactive table.\"\n",
              "              style=\"display:none;\">\n",
              "        \n",
              "  <svg xmlns=\"http://www.w3.org/2000/svg\" height=\"24px\"viewBox=\"0 0 24 24\"\n",
              "       width=\"24px\">\n",
              "    <path d=\"M0 0h24v24H0V0z\" fill=\"none\"/>\n",
              "    <path d=\"M18.56 5.44l.94 2.06.94-2.06 2.06-.94-2.06-.94-.94-2.06-.94 2.06-2.06.94zm-11 1L8.5 8.5l.94-2.06 2.06-.94-2.06-.94L8.5 2.5l-.94 2.06-2.06.94zm10 10l.94 2.06.94-2.06 2.06-.94-2.06-.94-.94-2.06-.94 2.06-2.06.94z\"/><path d=\"M17.41 7.96l-1.37-1.37c-.4-.4-.92-.59-1.43-.59-.52 0-1.04.2-1.43.59L10.3 9.45l-7.72 7.72c-.78.78-.78 2.05 0 2.83L4 21.41c.39.39.9.59 1.41.59.51 0 1.02-.2 1.41-.59l7.78-7.78 2.81-2.81c.8-.78.8-2.07 0-2.86zM5.41 20L4 18.59l7.72-7.72 1.47 1.35L5.41 20z\"/>\n",
              "  </svg>\n",
              "      </button>\n",
              "      \n",
              "  <style>\n",
              "    .colab-df-container {\n",
              "      display:flex;\n",
              "      flex-wrap:wrap;\n",
              "      gap: 12px;\n",
              "    }\n",
              "\n",
              "    .colab-df-convert {\n",
              "      background-color: #E8F0FE;\n",
              "      border: none;\n",
              "      border-radius: 50%;\n",
              "      cursor: pointer;\n",
              "      display: none;\n",
              "      fill: #1967D2;\n",
              "      height: 32px;\n",
              "      padding: 0 0 0 0;\n",
              "      width: 32px;\n",
              "    }\n",
              "\n",
              "    .colab-df-convert:hover {\n",
              "      background-color: #E2EBFA;\n",
              "      box-shadow: 0px 1px 2px rgba(60, 64, 67, 0.3), 0px 1px 3px 1px rgba(60, 64, 67, 0.15);\n",
              "      fill: #174EA6;\n",
              "    }\n",
              "\n",
              "    [theme=dark] .colab-df-convert {\n",
              "      background-color: #3B4455;\n",
              "      fill: #D2E3FC;\n",
              "    }\n",
              "\n",
              "    [theme=dark] .colab-df-convert:hover {\n",
              "      background-color: #434B5C;\n",
              "      box-shadow: 0px 1px 3px 1px rgba(0, 0, 0, 0.15);\n",
              "      filter: drop-shadow(0px 1px 2px rgba(0, 0, 0, 0.3));\n",
              "      fill: #FFFFFF;\n",
              "    }\n",
              "  </style>\n",
              "\n",
              "      <script>\n",
              "        const buttonEl =\n",
              "          document.querySelector('#df-a80c4457-cc31-4473-ac99-4ab7019a569e button.colab-df-convert');\n",
              "        buttonEl.style.display =\n",
              "          google.colab.kernel.accessAllowed ? 'block' : 'none';\n",
              "\n",
              "        async function convertToInteractive(key) {\n",
              "          const element = document.querySelector('#df-a80c4457-cc31-4473-ac99-4ab7019a569e');\n",
              "          const dataTable =\n",
              "            await google.colab.kernel.invokeFunction('convertToInteractive',\n",
              "                                                     [key], {});\n",
              "          if (!dataTable) return;\n",
              "\n",
              "          const docLinkHtml = 'Like what you see? Visit the ' +\n",
              "            '<a target=\"_blank\" href=https://colab.research.google.com/notebooks/data_table.ipynb>data table notebook</a>'\n",
              "            + ' to learn more about interactive tables.';\n",
              "          element.innerHTML = '';\n",
              "          dataTable['output_type'] = 'display_data';\n",
              "          await google.colab.output.renderOutput(dataTable, element);\n",
              "          const docLink = document.createElement('div');\n",
              "          docLink.innerHTML = docLinkHtml;\n",
              "          element.appendChild(docLink);\n",
              "        }\n",
              "      </script>\n",
              "    </div>\n",
              "  </div>\n",
              "  "
            ]
          },
          "metadata": {},
          "execution_count": 25
        }
      ]
    },
    {
      "cell_type": "code",
      "source": [
        "df.standard_type.unique()"
      ],
      "metadata": {
        "colab": {
          "base_uri": "https://localhost:8080/"
        },
        "id": "AQ0RQiFW_1cO",
        "outputId": "1349e1b6-98fd-424b-ea94-8acd29e8417f"
      },
      "execution_count": null,
      "outputs": [
        {
          "output_type": "execute_result",
          "data": {
            "text/plain": [
              "array(['IC50'], dtype=object)"
            ]
          },
          "metadata": {},
          "execution_count": 16
        }
      ]
    },
    {
      "cell_type": "markdown",
      "source": [
        "Finally we will save the resulting bioactivity data to a CSV file **bioactivity_data.csv**."
      ],
      "metadata": {
        "id": "oV7l1ENL_-8p"
      }
    },
    {
      "cell_type": "code",
      "source": [
        "df.to_csv('bioactivity_data.csv', index=False)"
      ],
      "metadata": {
        "id": "M57Fmr9XAAty"
      },
      "execution_count": null,
      "outputs": []
    },
    {
      "cell_type": "markdown",
      "source": [
        "## **Copying files to Google Drive**"
      ],
      "metadata": {
        "id": "DAAKHmitAR-1"
      }
    },
    {
      "cell_type": "markdown",
      "source": [
        "Firstly, we need to mount the Google Drive into Colab so that we can have access to our Google adrive from within Colab."
      ],
      "metadata": {
        "id": "AEkQju5tAfJ9"
      }
    },
    {
      "cell_type": "code",
      "source": [
        "from google.colab import drive\n",
        "drive.mount('/content/gdrive/', force_remount=True)"
      ],
      "metadata": {
        "colab": {
          "base_uri": "https://localhost:8080/"
        },
        "id": "AhKqBKiPAUWl",
        "outputId": "943126c6-cc2f-4f6e-8ef4-1b6064d16845"
      },
      "execution_count": null,
      "outputs": [
        {
          "output_type": "stream",
          "name": "stdout",
          "text": [
            "Mounted at /content/gdrive/\n"
          ]
        }
      ]
    },
    {
      "cell_type": "markdown",
      "source": [
        "Next, we create a **data** folder in our **Colab Notebooks** folder on Google Drive."
      ],
      "metadata": {
        "id": "fvzryagsA0rh"
      }
    },
    {
      "cell_type": "code",
      "source": [
        "! mkdir \"/content/gdrive/My Drive/Colab Notebooks/datadh\""
      ],
      "metadata": {
        "id": "llvdiyYGA2HK"
      },
      "execution_count": null,
      "outputs": []
    },
    {
      "cell_type": "code",
      "source": [
        "! cp bioactivity_data.csv \"/content/gdrive/My Drive/Colab Notebooks/datadh\""
      ],
      "metadata": {
        "id": "xtl6qaQ3BQJZ"
      },
      "execution_count": null,
      "outputs": []
    },
    {
      "cell_type": "code",
      "source": [
        "! ls -l \"/content/gdrive/My Drive/Colab Notebooks/datadh\""
      ],
      "metadata": {
        "colab": {
          "base_uri": "https://localhost:8080/"
        },
        "id": "qS_3TCJ4BaNI",
        "outputId": "7426dc82-4e99-4626-8099-af17dca008da"
      },
      "execution_count": null,
      "outputs": [
        {
          "output_type": "stream",
          "name": "stdout",
          "text": [
            "total 394\n",
            "-rw------- 1 root root 403372 Nov  5 22:59 bioactivity_data.csv\n"
          ]
        }
      ]
    },
    {
      "cell_type": "markdown",
      "source": [
        "Let's see the CSV files that we have so far."
      ],
      "metadata": {
        "id": "fvQ_uLv7Br3a"
      }
    },
    {
      "cell_type": "code",
      "source": [
        "! ls"
      ],
      "metadata": {
        "colab": {
          "base_uri": "https://localhost:8080/"
        },
        "id": "RjCH_58lBzkV",
        "outputId": "e2e8770b-2f85-4a69-f882-0f679b5173ae"
      },
      "execution_count": null,
      "outputs": [
        {
          "output_type": "stream",
          "name": "stdout",
          "text": [
            "bioactivity_data.csv  gdrive  sample_data\n"
          ]
        }
      ]
    },
    {
      "cell_type": "markdown",
      "source": [
        "Taking a glimpse of the **bioactivity_data.csv** file that we've just created."
      ],
      "metadata": {
        "id": "2gMLFPenB8Xv"
      }
    },
    {
      "cell_type": "code",
      "source": [
        "! head bioactivity_data.csv"
      ],
      "metadata": {
        "colab": {
          "base_uri": "https://localhost:8080/"
        },
        "id": "GsRbOSBICEI_",
        "outputId": "cdd50324-7bbe-4bb2-8164-29394fe55349"
      },
      "execution_count": null,
      "outputs": [
        {
          "output_type": "stream",
          "name": "stdout",
          "text": [
            "activity_comment,activity_id,activity_properties,assay_chembl_id,assay_description,assay_type,assay_variant_accession,assay_variant_mutation,bao_endpoint,bao_format,bao_label,canonical_smiles,data_validity_comment,data_validity_description,document_chembl_id,document_journal,document_year,ligand_efficiency,molecule_chembl_id,molecule_pref_name,parent_molecule_chembl_id,pchembl_value,potential_duplicate,qudt_units,record_id,relation,src_id,standard_flag,standard_relation,standard_text_value,standard_type,standard_units,standard_upper_value,standard_value,target_chembl_id,target_organism,target_pref_name,target_tax_id,text_value,toid,type,units,uo_units,upper_value,value\n",
            ",1662473,[],CHEMBL863916,Binding affinity to Plasmodium falciparum DHODH,B,,,BAO_0000190,BAO_0000357,single protein format,CN(C(=O)c1ccc(-c2ccccc2)cc1)c1ccccc1C(=O)O,,,CHEMBL1148537,Bioorg. Med. Chem. Lett.,2006,\"{'bei': '13.19', 'le': '0.24', 'lle': '0.04', 'sei': '7.59'}\",CHEMBL199572,,CHEMBL199572,4.37,1,http://www.openphacts.org/units/Nanomolar,414629,=,1,1,=,,IC50,nM,,42600.0,CHEMBL3486,Plasmodium falciparum,Dihydroorotate dehydrogenase,5833,,,IC50,uM,UO_0000065,,42.6\n",
            ",1662477,[],CHEMBL863916,Binding affinity to Plasmodium falciparum DHODH,B,,,BAO_0000190,BAO_0000357,single protein format,O=C(Nc1ccccc1C(=O)O)c1ccc2cc(Br)ccc2c1,Outside typical range,\"Values for this activity type are unusually large/small, so may not be accurate\",CHEMBL1148537,Bioorg. Med. Chem. Lett.,2006,,CHEMBL199574,,CHEMBL199574,3.85,1,http://www.openphacts.org/units/Nanomolar,414632,=,1,1,=,,IC50,nM,,142600.0,CHEMBL3486,Plasmodium falciparum,Dihydroorotate dehydrogenase,5833,,,IC50,uM,UO_0000065,,142.6\n",
            ",1662479,[],CHEMBL863916,Binding affinity to Plasmodium falciparum DHODH,B,,,BAO_0000190,BAO_0000357,single protein format,CN(C(=O)c1ccc2cc(Br)ccc2c1)c1ccccc1C(=O)O,,,CHEMBL1148537,Bioorg. Med. Chem. Lett.,2006,\"{'bei': '10.49', 'le': '0.23', 'lle': '-0.55', 'sei': '6.99'}\",CHEMBL372561,,CHEMBL372561,4.03,1,http://www.openphacts.org/units/Nanomolar,414631,=,1,1,=,,IC50,nM,,93400.0,CHEMBL3486,Plasmodium falciparum,Dihydroorotate dehydrogenase,5833,,,IC50,uM,UO_0000065,,93.4\n",
            ",1662481,[],CHEMBL863916,Binding affinity to Plasmodium falciparum DHODH,B,,,BAO_0000190,BAO_0000357,single protein format,O=C(Nc1ccccc1C(=O)O)c1ccc(-c2ccccc2)cc1,Outside typical range,\"Values for this activity type are unusually large/small, so may not be accurate\",CHEMBL1148537,Bioorg. Med. Chem. Lett.,2006,,CHEMBL370865,,CHEMBL370865,3.81,1,http://www.openphacts.org/units/Nanomolar,414630,=,1,1,=,,IC50,nM,,153500.0,CHEMBL3486,Plasmodium falciparum,Dihydroorotate dehydrogenase,5833,,,IC50,uM,UO_0000065,,153.5\n",
            ",1662493,[],CHEMBL863916,Binding affinity to Plasmodium falciparum DHODH,B,,,BAO_0000190,BAO_0000357,single protein format,CN(C(=O)c1ccc2ccccc2c1)c1ccccc1C(=O)O,Outside typical range,\"Values for this activity type are unusually large/small, so may not be accurate\",CHEMBL1148537,Bioorg. Med. Chem. Lett.,2006,,CHEMBL199575,,CHEMBL199575,,0,http://www.openphacts.org/units/Nanomolar,414633,>,1,1,>,,IC50,nM,,200000.0,CHEMBL3486,Plasmodium falciparum,Dihydroorotate dehydrogenase,5833,,,IC50,uM,UO_0000065,,200.0\n",
            ",1662495,[],CHEMBL863916,Binding affinity to Plasmodium falciparum DHODH,B,,,BAO_0000190,BAO_0000357,single protein format,O=C(Nc1ccccc1C(=O)O)c1ccc2ccccc2c1,Outside typical range,\"Values for this activity type are unusually large/small, so may not be accurate\",CHEMBL1148537,Bioorg. Med. Chem. Lett.,2006,,CHEMBL200536,,CHEMBL200536,,0,http://www.openphacts.org/units/Nanomolar,414634,>,1,1,>,,IC50,nM,,200000.0,CHEMBL3486,Plasmodium falciparum,Dihydroorotate dehydrogenase,5833,,,IC50,uM,UO_0000065,,200.0\n",
            ",1801641,[],CHEMBL911102,Inhibition of recombinant Plasmodium falciparum DHODH,B,,,BAO_0000190,BAO_0000357,single protein format,CCOC(=O)C(=CNc1ccc2sc3ccccc3c2c1)C(=O)OCC,,,CHEMBL1139229,J. Med. Chem.,2007,\"{'bei': '18.40', 'le': '0.36', 'lle': '2.32', 'sei': '10.52'}\",CHEMBL218467,,CHEMBL218467,6.80,0,http://www.openphacts.org/units/Nanomolar,621261,=,1,1,=,,IC50,nM,,160.0,CHEMBL3486,Plasmodium falciparum,Dihydroorotate dehydrogenase,5833,,,IC50,uM,UO_0000065,,0.16\n",
            ",1801645,[],CHEMBL911102,Inhibition of recombinant Plasmodium falciparum DHODH,B,,,BAO_0000190,BAO_0000357,single protein format,C/C(O)=C(\\C#N)C(=O)Nc1ccc(C(F)(F)F)cc1,Outside typical range,\"Values for this activity type are unusually large/small, so may not be accurate\",CHEMBL1139229,J. Med. Chem.,2007,,CHEMBL973,TERIFLUNOMIDE,CHEMBL973,3.72,1,http://www.openphacts.org/units/Nanomolar,621273,=,1,1,=,,IC50,nM,,190100.0,CHEMBL3486,Plasmodium falciparum,Dihydroorotate dehydrogenase,5833,,,IC50,uM,UO_0000065,,190.1\n",
            ",1801646,[],CHEMBL911102,Inhibition of recombinant Plasmodium falciparum DHODH,B,,,BAO_0000190,BAO_0000357,single protein format,Cc1c(C(=O)Nc2cc(Cl)cc(Cl)c2)cccc1[N+](=O)[O-],,,CHEMBL1139229,J. Med. Chem.,2007,\"{'bei': '20.42', 'le': '0.43', 'lle': '2.18', 'sei': '9.19'}\",CHEMBL217893,,CHEMBL217893,6.64,0,http://www.openphacts.org/units/Nanomolar,621272,=,1,1,=,,IC50,nM,,230.0,CHEMBL3486,Plasmodium falciparum,Dihydroorotate dehydrogenase,5833,,,IC50,uM,UO_0000065,,0.23\n"
          ]
        }
      ]
    },
    {
      "cell_type": "markdown",
      "source": [
        "## **Handling missing data**\n",
        "If any compounds has missing value for the **standard_value** column then drop it"
      ],
      "metadata": {
        "id": "2HY991RaCp9T"
      }
    },
    {
      "cell_type": "code",
      "source": [
        "df2 = df[df.standard_value.notna()]\n",
        "df2"
      ],
      "metadata": {
        "colab": {
          "base_uri": "https://localhost:8080/",
          "height": 922
        },
        "id": "OxA1YoT3C4LR",
        "outputId": "8844d482-9fcb-4c12-f525-f11107ec2572"
      },
      "execution_count": null,
      "outputs": [
        {
          "output_type": "execute_result",
          "data": {
            "text/plain": [
              "    activity_comment  activity_id activity_properties assay_chembl_id  \\\n",
              "0               None      1662473                  []    CHEMBL863916   \n",
              "1               None      1662477                  []    CHEMBL863916   \n",
              "2               None      1662479                  []    CHEMBL863916   \n",
              "3               None      1662481                  []    CHEMBL863916   \n",
              "4               None      1662493                  []    CHEMBL863916   \n",
              "..               ...          ...                 ...             ...   \n",
              "597             None     18951322                  []   CHEMBL4331522   \n",
              "598             None     18951323                  []   CHEMBL4331522   \n",
              "599             None     18951324                  []   CHEMBL4331522   \n",
              "600             None     19145102                  []   CHEMBL4378107   \n",
              "601             None     19145103                  []   CHEMBL4378107   \n",
              "\n",
              "                                     assay_description assay_type  \\\n",
              "0      Binding affinity to Plasmodium falciparum DHODH          B   \n",
              "1      Binding affinity to Plasmodium falciparum DHODH          B   \n",
              "2      Binding affinity to Plasmodium falciparum DHODH          B   \n",
              "3      Binding affinity to Plasmodium falciparum DHODH          B   \n",
              "4      Binding affinity to Plasmodium falciparum DHODH          B   \n",
              "..                                                 ...        ...   \n",
              "597  Inhibition of Plasmodium falciparum recombinan...          B   \n",
              "598  Inhibition of Plasmodium falciparum recombinan...          B   \n",
              "599  Inhibition of Plasmodium falciparum recombinan...          B   \n",
              "600  Inhibition of Plasmodium falciparum DHODH expr...          B   \n",
              "601  Inhibition of Plasmodium falciparum DHODH expr...          B   \n",
              "\n",
              "    assay_variant_accession assay_variant_mutation bao_endpoint   bao_format  \\\n",
              "0                      None                   None  BAO_0000190  BAO_0000357   \n",
              "1                      None                   None  BAO_0000190  BAO_0000357   \n",
              "2                      None                   None  BAO_0000190  BAO_0000357   \n",
              "3                      None                   None  BAO_0000190  BAO_0000357   \n",
              "4                      None                   None  BAO_0000190  BAO_0000357   \n",
              "..                      ...                    ...          ...          ...   \n",
              "597                    None                   None  BAO_0000190  BAO_0000019   \n",
              "598                    None                   None  BAO_0000190  BAO_0000019   \n",
              "599                    None                   None  BAO_0000190  BAO_0000019   \n",
              "600                    None                   None  BAO_0000190  BAO_0000019   \n",
              "601                    None                   None  BAO_0000190  BAO_0000019   \n",
              "\n",
              "     ...        target_organism              target_pref_name target_tax_id  \\\n",
              "0    ...  Plasmodium falciparum  Dihydroorotate dehydrogenase          5833   \n",
              "1    ...  Plasmodium falciparum  Dihydroorotate dehydrogenase          5833   \n",
              "2    ...  Plasmodium falciparum  Dihydroorotate dehydrogenase          5833   \n",
              "3    ...  Plasmodium falciparum  Dihydroorotate dehydrogenase          5833   \n",
              "4    ...  Plasmodium falciparum  Dihydroorotate dehydrogenase          5833   \n",
              "..   ...                    ...                           ...           ...   \n",
              "597  ...  Plasmodium falciparum  Dihydroorotate dehydrogenase          5833   \n",
              "598  ...  Plasmodium falciparum  Dihydroorotate dehydrogenase          5833   \n",
              "599  ...  Plasmodium falciparum  Dihydroorotate dehydrogenase          5833   \n",
              "600  ...  Plasmodium falciparum  Dihydroorotate dehydrogenase          5833   \n",
              "601  ...  Plasmodium falciparum  Dihydroorotate dehydrogenase          5833   \n",
              "\n",
              "    text_value  toid  type  units    uo_units upper_value  value  \n",
              "0         None  None  IC50     uM  UO_0000065        None   42.6  \n",
              "1         None  None  IC50     uM  UO_0000065        None  142.6  \n",
              "2         None  None  IC50     uM  UO_0000065        None   93.4  \n",
              "3         None  None  IC50     uM  UO_0000065        None  153.5  \n",
              "4         None  None  IC50     uM  UO_0000065        None  200.0  \n",
              "..         ...   ...   ...    ...         ...         ...    ...  \n",
              "597       None  None  IC50     uM  UO_0000065        None  250.0  \n",
              "598       None  None  IC50     uM  UO_0000065        None  250.0  \n",
              "599       None  None  IC50     uM  UO_0000065        None  250.0  \n",
              "600       None  None  IC50     uM  UO_0000065        None   0.01  \n",
              "601       None  None  IC50     uM  UO_0000065        None   0.01  \n",
              "\n",
              "[602 rows x 45 columns]"
            ],
            "text/html": [
              "\n",
              "  <div id=\"df-135f38e9-b721-4282-bbcc-59ceead8e2f6\">\n",
              "    <div class=\"colab-df-container\">\n",
              "      <div>\n",
              "<style scoped>\n",
              "    .dataframe tbody tr th:only-of-type {\n",
              "        vertical-align: middle;\n",
              "    }\n",
              "\n",
              "    .dataframe tbody tr th {\n",
              "        vertical-align: top;\n",
              "    }\n",
              "\n",
              "    .dataframe thead th {\n",
              "        text-align: right;\n",
              "    }\n",
              "</style>\n",
              "<table border=\"1\" class=\"dataframe\">\n",
              "  <thead>\n",
              "    <tr style=\"text-align: right;\">\n",
              "      <th></th>\n",
              "      <th>activity_comment</th>\n",
              "      <th>activity_id</th>\n",
              "      <th>activity_properties</th>\n",
              "      <th>assay_chembl_id</th>\n",
              "      <th>assay_description</th>\n",
              "      <th>assay_type</th>\n",
              "      <th>assay_variant_accession</th>\n",
              "      <th>assay_variant_mutation</th>\n",
              "      <th>bao_endpoint</th>\n",
              "      <th>bao_format</th>\n",
              "      <th>...</th>\n",
              "      <th>target_organism</th>\n",
              "      <th>target_pref_name</th>\n",
              "      <th>target_tax_id</th>\n",
              "      <th>text_value</th>\n",
              "      <th>toid</th>\n",
              "      <th>type</th>\n",
              "      <th>units</th>\n",
              "      <th>uo_units</th>\n",
              "      <th>upper_value</th>\n",
              "      <th>value</th>\n",
              "    </tr>\n",
              "  </thead>\n",
              "  <tbody>\n",
              "    <tr>\n",
              "      <th>0</th>\n",
              "      <td>None</td>\n",
              "      <td>1662473</td>\n",
              "      <td>[]</td>\n",
              "      <td>CHEMBL863916</td>\n",
              "      <td>Binding affinity to Plasmodium falciparum DHODH</td>\n",
              "      <td>B</td>\n",
              "      <td>None</td>\n",
              "      <td>None</td>\n",
              "      <td>BAO_0000190</td>\n",
              "      <td>BAO_0000357</td>\n",
              "      <td>...</td>\n",
              "      <td>Plasmodium falciparum</td>\n",
              "      <td>Dihydroorotate dehydrogenase</td>\n",
              "      <td>5833</td>\n",
              "      <td>None</td>\n",
              "      <td>None</td>\n",
              "      <td>IC50</td>\n",
              "      <td>uM</td>\n",
              "      <td>UO_0000065</td>\n",
              "      <td>None</td>\n",
              "      <td>42.6</td>\n",
              "    </tr>\n",
              "    <tr>\n",
              "      <th>1</th>\n",
              "      <td>None</td>\n",
              "      <td>1662477</td>\n",
              "      <td>[]</td>\n",
              "      <td>CHEMBL863916</td>\n",
              "      <td>Binding affinity to Plasmodium falciparum DHODH</td>\n",
              "      <td>B</td>\n",
              "      <td>None</td>\n",
              "      <td>None</td>\n",
              "      <td>BAO_0000190</td>\n",
              "      <td>BAO_0000357</td>\n",
              "      <td>...</td>\n",
              "      <td>Plasmodium falciparum</td>\n",
              "      <td>Dihydroorotate dehydrogenase</td>\n",
              "      <td>5833</td>\n",
              "      <td>None</td>\n",
              "      <td>None</td>\n",
              "      <td>IC50</td>\n",
              "      <td>uM</td>\n",
              "      <td>UO_0000065</td>\n",
              "      <td>None</td>\n",
              "      <td>142.6</td>\n",
              "    </tr>\n",
              "    <tr>\n",
              "      <th>2</th>\n",
              "      <td>None</td>\n",
              "      <td>1662479</td>\n",
              "      <td>[]</td>\n",
              "      <td>CHEMBL863916</td>\n",
              "      <td>Binding affinity to Plasmodium falciparum DHODH</td>\n",
              "      <td>B</td>\n",
              "      <td>None</td>\n",
              "      <td>None</td>\n",
              "      <td>BAO_0000190</td>\n",
              "      <td>BAO_0000357</td>\n",
              "      <td>...</td>\n",
              "      <td>Plasmodium falciparum</td>\n",
              "      <td>Dihydroorotate dehydrogenase</td>\n",
              "      <td>5833</td>\n",
              "      <td>None</td>\n",
              "      <td>None</td>\n",
              "      <td>IC50</td>\n",
              "      <td>uM</td>\n",
              "      <td>UO_0000065</td>\n",
              "      <td>None</td>\n",
              "      <td>93.4</td>\n",
              "    </tr>\n",
              "    <tr>\n",
              "      <th>3</th>\n",
              "      <td>None</td>\n",
              "      <td>1662481</td>\n",
              "      <td>[]</td>\n",
              "      <td>CHEMBL863916</td>\n",
              "      <td>Binding affinity to Plasmodium falciparum DHODH</td>\n",
              "      <td>B</td>\n",
              "      <td>None</td>\n",
              "      <td>None</td>\n",
              "      <td>BAO_0000190</td>\n",
              "      <td>BAO_0000357</td>\n",
              "      <td>...</td>\n",
              "      <td>Plasmodium falciparum</td>\n",
              "      <td>Dihydroorotate dehydrogenase</td>\n",
              "      <td>5833</td>\n",
              "      <td>None</td>\n",
              "      <td>None</td>\n",
              "      <td>IC50</td>\n",
              "      <td>uM</td>\n",
              "      <td>UO_0000065</td>\n",
              "      <td>None</td>\n",
              "      <td>153.5</td>\n",
              "    </tr>\n",
              "    <tr>\n",
              "      <th>4</th>\n",
              "      <td>None</td>\n",
              "      <td>1662493</td>\n",
              "      <td>[]</td>\n",
              "      <td>CHEMBL863916</td>\n",
              "      <td>Binding affinity to Plasmodium falciparum DHODH</td>\n",
              "      <td>B</td>\n",
              "      <td>None</td>\n",
              "      <td>None</td>\n",
              "      <td>BAO_0000190</td>\n",
              "      <td>BAO_0000357</td>\n",
              "      <td>...</td>\n",
              "      <td>Plasmodium falciparum</td>\n",
              "      <td>Dihydroorotate dehydrogenase</td>\n",
              "      <td>5833</td>\n",
              "      <td>None</td>\n",
              "      <td>None</td>\n",
              "      <td>IC50</td>\n",
              "      <td>uM</td>\n",
              "      <td>UO_0000065</td>\n",
              "      <td>None</td>\n",
              "      <td>200.0</td>\n",
              "    </tr>\n",
              "    <tr>\n",
              "      <th>...</th>\n",
              "      <td>...</td>\n",
              "      <td>...</td>\n",
              "      <td>...</td>\n",
              "      <td>...</td>\n",
              "      <td>...</td>\n",
              "      <td>...</td>\n",
              "      <td>...</td>\n",
              "      <td>...</td>\n",
              "      <td>...</td>\n",
              "      <td>...</td>\n",
              "      <td>...</td>\n",
              "      <td>...</td>\n",
              "      <td>...</td>\n",
              "      <td>...</td>\n",
              "      <td>...</td>\n",
              "      <td>...</td>\n",
              "      <td>...</td>\n",
              "      <td>...</td>\n",
              "      <td>...</td>\n",
              "      <td>...</td>\n",
              "      <td>...</td>\n",
              "    </tr>\n",
              "    <tr>\n",
              "      <th>597</th>\n",
              "      <td>None</td>\n",
              "      <td>18951322</td>\n",
              "      <td>[]</td>\n",
              "      <td>CHEMBL4331522</td>\n",
              "      <td>Inhibition of Plasmodium falciparum recombinan...</td>\n",
              "      <td>B</td>\n",
              "      <td>None</td>\n",
              "      <td>None</td>\n",
              "      <td>BAO_0000190</td>\n",
              "      <td>BAO_0000019</td>\n",
              "      <td>...</td>\n",
              "      <td>Plasmodium falciparum</td>\n",
              "      <td>Dihydroorotate dehydrogenase</td>\n",
              "      <td>5833</td>\n",
              "      <td>None</td>\n",
              "      <td>None</td>\n",
              "      <td>IC50</td>\n",
              "      <td>uM</td>\n",
              "      <td>UO_0000065</td>\n",
              "      <td>None</td>\n",
              "      <td>250.0</td>\n",
              "    </tr>\n",
              "    <tr>\n",
              "      <th>598</th>\n",
              "      <td>None</td>\n",
              "      <td>18951323</td>\n",
              "      <td>[]</td>\n",
              "      <td>CHEMBL4331522</td>\n",
              "      <td>Inhibition of Plasmodium falciparum recombinan...</td>\n",
              "      <td>B</td>\n",
              "      <td>None</td>\n",
              "      <td>None</td>\n",
              "      <td>BAO_0000190</td>\n",
              "      <td>BAO_0000019</td>\n",
              "      <td>...</td>\n",
              "      <td>Plasmodium falciparum</td>\n",
              "      <td>Dihydroorotate dehydrogenase</td>\n",
              "      <td>5833</td>\n",
              "      <td>None</td>\n",
              "      <td>None</td>\n",
              "      <td>IC50</td>\n",
              "      <td>uM</td>\n",
              "      <td>UO_0000065</td>\n",
              "      <td>None</td>\n",
              "      <td>250.0</td>\n",
              "    </tr>\n",
              "    <tr>\n",
              "      <th>599</th>\n",
              "      <td>None</td>\n",
              "      <td>18951324</td>\n",
              "      <td>[]</td>\n",
              "      <td>CHEMBL4331522</td>\n",
              "      <td>Inhibition of Plasmodium falciparum recombinan...</td>\n",
              "      <td>B</td>\n",
              "      <td>None</td>\n",
              "      <td>None</td>\n",
              "      <td>BAO_0000190</td>\n",
              "      <td>BAO_0000019</td>\n",
              "      <td>...</td>\n",
              "      <td>Plasmodium falciparum</td>\n",
              "      <td>Dihydroorotate dehydrogenase</td>\n",
              "      <td>5833</td>\n",
              "      <td>None</td>\n",
              "      <td>None</td>\n",
              "      <td>IC50</td>\n",
              "      <td>uM</td>\n",
              "      <td>UO_0000065</td>\n",
              "      <td>None</td>\n",
              "      <td>250.0</td>\n",
              "    </tr>\n",
              "    <tr>\n",
              "      <th>600</th>\n",
              "      <td>None</td>\n",
              "      <td>19145102</td>\n",
              "      <td>[]</td>\n",
              "      <td>CHEMBL4378107</td>\n",
              "      <td>Inhibition of Plasmodium falciparum DHODH expr...</td>\n",
              "      <td>B</td>\n",
              "      <td>None</td>\n",
              "      <td>None</td>\n",
              "      <td>BAO_0000190</td>\n",
              "      <td>BAO_0000019</td>\n",
              "      <td>...</td>\n",
              "      <td>Plasmodium falciparum</td>\n",
              "      <td>Dihydroorotate dehydrogenase</td>\n",
              "      <td>5833</td>\n",
              "      <td>None</td>\n",
              "      <td>None</td>\n",
              "      <td>IC50</td>\n",
              "      <td>uM</td>\n",
              "      <td>UO_0000065</td>\n",
              "      <td>None</td>\n",
              "      <td>0.01</td>\n",
              "    </tr>\n",
              "    <tr>\n",
              "      <th>601</th>\n",
              "      <td>None</td>\n",
              "      <td>19145103</td>\n",
              "      <td>[]</td>\n",
              "      <td>CHEMBL4378107</td>\n",
              "      <td>Inhibition of Plasmodium falciparum DHODH expr...</td>\n",
              "      <td>B</td>\n",
              "      <td>None</td>\n",
              "      <td>None</td>\n",
              "      <td>BAO_0000190</td>\n",
              "      <td>BAO_0000019</td>\n",
              "      <td>...</td>\n",
              "      <td>Plasmodium falciparum</td>\n",
              "      <td>Dihydroorotate dehydrogenase</td>\n",
              "      <td>5833</td>\n",
              "      <td>None</td>\n",
              "      <td>None</td>\n",
              "      <td>IC50</td>\n",
              "      <td>uM</td>\n",
              "      <td>UO_0000065</td>\n",
              "      <td>None</td>\n",
              "      <td>0.01</td>\n",
              "    </tr>\n",
              "  </tbody>\n",
              "</table>\n",
              "<p>602 rows × 45 columns</p>\n",
              "</div>\n",
              "      <button class=\"colab-df-convert\" onclick=\"convertToInteractive('df-135f38e9-b721-4282-bbcc-59ceead8e2f6')\"\n",
              "              title=\"Convert this dataframe to an interactive table.\"\n",
              "              style=\"display:none;\">\n",
              "        \n",
              "  <svg xmlns=\"http://www.w3.org/2000/svg\" height=\"24px\"viewBox=\"0 0 24 24\"\n",
              "       width=\"24px\">\n",
              "    <path d=\"M0 0h24v24H0V0z\" fill=\"none\"/>\n",
              "    <path d=\"M18.56 5.44l.94 2.06.94-2.06 2.06-.94-2.06-.94-.94-2.06-.94 2.06-2.06.94zm-11 1L8.5 8.5l.94-2.06 2.06-.94-2.06-.94L8.5 2.5l-.94 2.06-2.06.94zm10 10l.94 2.06.94-2.06 2.06-.94-2.06-.94-.94-2.06-.94 2.06-2.06.94z\"/><path d=\"M17.41 7.96l-1.37-1.37c-.4-.4-.92-.59-1.43-.59-.52 0-1.04.2-1.43.59L10.3 9.45l-7.72 7.72c-.78.78-.78 2.05 0 2.83L4 21.41c.39.39.9.59 1.41.59.51 0 1.02-.2 1.41-.59l7.78-7.78 2.81-2.81c.8-.78.8-2.07 0-2.86zM5.41 20L4 18.59l7.72-7.72 1.47 1.35L5.41 20z\"/>\n",
              "  </svg>\n",
              "      </button>\n",
              "      \n",
              "  <style>\n",
              "    .colab-df-container {\n",
              "      display:flex;\n",
              "      flex-wrap:wrap;\n",
              "      gap: 12px;\n",
              "    }\n",
              "\n",
              "    .colab-df-convert {\n",
              "      background-color: #E8F0FE;\n",
              "      border: none;\n",
              "      border-radius: 50%;\n",
              "      cursor: pointer;\n",
              "      display: none;\n",
              "      fill: #1967D2;\n",
              "      height: 32px;\n",
              "      padding: 0 0 0 0;\n",
              "      width: 32px;\n",
              "    }\n",
              "\n",
              "    .colab-df-convert:hover {\n",
              "      background-color: #E2EBFA;\n",
              "      box-shadow: 0px 1px 2px rgba(60, 64, 67, 0.3), 0px 1px 3px 1px rgba(60, 64, 67, 0.15);\n",
              "      fill: #174EA6;\n",
              "    }\n",
              "\n",
              "    [theme=dark] .colab-df-convert {\n",
              "      background-color: #3B4455;\n",
              "      fill: #D2E3FC;\n",
              "    }\n",
              "\n",
              "    [theme=dark] .colab-df-convert:hover {\n",
              "      background-color: #434B5C;\n",
              "      box-shadow: 0px 1px 3px 1px rgba(0, 0, 0, 0.15);\n",
              "      filter: drop-shadow(0px 1px 2px rgba(0, 0, 0, 0.3));\n",
              "      fill: #FFFFFF;\n",
              "    }\n",
              "  </style>\n",
              "\n",
              "      <script>\n",
              "        const buttonEl =\n",
              "          document.querySelector('#df-135f38e9-b721-4282-bbcc-59ceead8e2f6 button.colab-df-convert');\n",
              "        buttonEl.style.display =\n",
              "          google.colab.kernel.accessAllowed ? 'block' : 'none';\n",
              "\n",
              "        async function convertToInteractive(key) {\n",
              "          const element = document.querySelector('#df-135f38e9-b721-4282-bbcc-59ceead8e2f6');\n",
              "          const dataTable =\n",
              "            await google.colab.kernel.invokeFunction('convertToInteractive',\n",
              "                                                     [key], {});\n",
              "          if (!dataTable) return;\n",
              "\n",
              "          const docLinkHtml = 'Like what you see? Visit the ' +\n",
              "            '<a target=\"_blank\" href=https://colab.research.google.com/notebooks/data_table.ipynb>data table notebook</a>'\n",
              "            + ' to learn more about interactive tables.';\n",
              "          element.innerHTML = '';\n",
              "          dataTable['output_type'] = 'display_data';\n",
              "          await google.colab.output.renderOutput(dataTable, element);\n",
              "          const docLink = document.createElement('div');\n",
              "          docLink.innerHTML = docLinkHtml;\n",
              "          element.appendChild(docLink);\n",
              "        }\n",
              "      </script>\n",
              "    </div>\n",
              "  </div>\n",
              "  "
            ]
          },
          "metadata": {},
          "execution_count": 24
        }
      ]
    },
    {
      "cell_type": "markdown",
      "source": [
        "Apparently, for this dataset there is no missing data. But we can use the above code cell for bioactivity data of other target protein."
      ],
      "metadata": {
        "id": "gAUKyzU2DaYH"
      }
    },
    {
      "cell_type": "markdown",
      "source": [
        "## **Data pre-processing of the bioactivity data**"
      ],
      "metadata": {
        "id": "roh6oiQFDkMU"
      }
    },
    {
      "cell_type": "markdown",
      "source": [
        "### **Labeling compounds as either being active, inactive or intermediate**\n",
        "The bioactivity data is in the IC50 unit. Compounds having values of less than 1000 nM will be considered to be **active** while those greater than 10,000 nM will be considered to be **inactive**. As for those values in between 1,000 and 10,000 nM will be referred to as **intermediate**. "
      ],
      "metadata": {
        "id": "LBPDZlnPDlYV"
      }
    },
    {
      "cell_type": "code",
      "source": [
        "bioactivity_class = []\n",
        "for i in df2.standard_value:\n",
        "  if float(i) >= 10000:\n",
        "    bioactivity_class.append(\"inactive\")\n",
        "  elif float(i) <= 1000:\n",
        "    bioactivity_class.append(\"active\")\n",
        "  else:\n",
        "    bioactivity_class.append(\"intermediate\")"
      ],
      "metadata": {
        "id": "MCa3sxp-D0JP"
      },
      "execution_count": null,
      "outputs": []
    },
    {
      "cell_type": "markdown",
      "source": [
        "### **Iterate the *molecule_chembl_id* to a list**"
      ],
      "metadata": {
        "id": "QZsvbBpRECCM"
      }
    },
    {
      "cell_type": "code",
      "source": [
        "mol_cid = []\n",
        "for i in df2.molecule_chembl_id:\n",
        "  mol_cid.append(i)"
      ],
      "metadata": {
        "id": "58-Bel5MEEsY"
      },
      "execution_count": null,
      "outputs": []
    },
    {
      "cell_type": "markdown",
      "source": [
        "### **Iterate *canonical_smiles* to a list**"
      ],
      "metadata": {
        "id": "hPOW6-T8ESAe"
      }
    },
    {
      "cell_type": "code",
      "source": [
        "canonical_smiles = []\n",
        "for i in df2.canonical_smiles:\n",
        "  canonical_smiles.append(i)"
      ],
      "metadata": {
        "id": "Qfn_F6KqETvt"
      },
      "execution_count": null,
      "outputs": []
    },
    {
      "cell_type": "markdown",
      "source": [
        "### **Iterate *standard_value* to a list**"
      ],
      "metadata": {
        "id": "pKDV6IvHEfGa"
      }
    },
    {
      "cell_type": "code",
      "source": [
        "standard_value = []\n",
        "for i in df2.standard_value:\n",
        "  standard_value.append(i)"
      ],
      "metadata": {
        "id": "jEOjjellEncw"
      },
      "execution_count": null,
      "outputs": []
    },
    {
      "cell_type": "markdown",
      "source": [
        "### **Combine the 4 lists into a dataframe**"
      ],
      "metadata": {
        "id": "LQPs-PdSEp03"
      }
    },
    {
      "cell_type": "code",
      "source": [
        "data_tuples = list(zip(mol_cid, canonical_smiles, bioactivity_class, standard_value))\n",
        "df3 = pd.DataFrame( data_tuples,  columns=['molecule_chembl_id', 'canonical_smiles', 'bioactivity_class', 'standard_value'])"
      ],
      "metadata": {
        "id": "jZcTzujoEwCy"
      },
      "execution_count": null,
      "outputs": []
    },
    {
      "cell_type": "code",
      "source": [
        "df3"
      ],
      "metadata": {
        "colab": {
          "base_uri": "https://localhost:8080/",
          "height": 424
        },
        "id": "I-VUUlU9E6Y8",
        "outputId": "d9003e33-04cf-4624-8d70-808c2ac70869"
      },
      "execution_count": null,
      "outputs": [
        {
          "output_type": "execute_result",
          "data": {
            "text/plain": [
              "    molecule_chembl_id                                   canonical_smiles  \\\n",
              "0         CHEMBL199572         CN(C(=O)c1ccc(-c2ccccc2)cc1)c1ccccc1C(=O)O   \n",
              "1         CHEMBL199574             O=C(Nc1ccccc1C(=O)O)c1ccc2cc(Br)ccc2c1   \n",
              "2         CHEMBL372561          CN(C(=O)c1ccc2cc(Br)ccc2c1)c1ccccc1C(=O)O   \n",
              "3         CHEMBL370865            O=C(Nc1ccccc1C(=O)O)c1ccc(-c2ccccc2)cc1   \n",
              "4         CHEMBL199575              CN(C(=O)c1ccc2ccccc2c1)c1ccccc1C(=O)O   \n",
              "..                 ...                                                ...   \n",
              "597      CHEMBL4569109                Cn1nc(OCC2CC2)c(C(=O)O)c1COc1ccccc1   \n",
              "598      CHEMBL4568957             Cn1nc(OCc2ccccc2)c(C(=O)O)c1COc1ccccc1   \n",
              "599      CHEMBL4449622                      Cn1nc(O)c(C(N)=O)c1COc1ccccc1   \n",
              "600      CHEMBL1956285  Cc1cc(Nc2ccc(S(F)(F)(F)(F)F)cc2)n2nc(C(C)(F)F)...   \n",
              "601      CHEMBL4545127  Cc1cc(Nc2ccc(S(F)(F)(F)(F)F)c(F)c2)n2nc(C(C)(F...   \n",
              "\n",
              "    bioactivity_class standard_value  \n",
              "0            inactive        42600.0  \n",
              "1            inactive       142600.0  \n",
              "2            inactive        93400.0  \n",
              "3            inactive       153500.0  \n",
              "4            inactive       200000.0  \n",
              "..                ...            ...  \n",
              "597          inactive       250000.0  \n",
              "598          inactive       250000.0  \n",
              "599          inactive       250000.0  \n",
              "600            active           10.0  \n",
              "601            active           10.0  \n",
              "\n",
              "[602 rows x 4 columns]"
            ],
            "text/html": [
              "\n",
              "  <div id=\"df-b65209bc-17c5-403b-bd7c-0cf6cf63fdfb\">\n",
              "    <div class=\"colab-df-container\">\n",
              "      <div>\n",
              "<style scoped>\n",
              "    .dataframe tbody tr th:only-of-type {\n",
              "        vertical-align: middle;\n",
              "    }\n",
              "\n",
              "    .dataframe tbody tr th {\n",
              "        vertical-align: top;\n",
              "    }\n",
              "\n",
              "    .dataframe thead th {\n",
              "        text-align: right;\n",
              "    }\n",
              "</style>\n",
              "<table border=\"1\" class=\"dataframe\">\n",
              "  <thead>\n",
              "    <tr style=\"text-align: right;\">\n",
              "      <th></th>\n",
              "      <th>molecule_chembl_id</th>\n",
              "      <th>canonical_smiles</th>\n",
              "      <th>bioactivity_class</th>\n",
              "      <th>standard_value</th>\n",
              "    </tr>\n",
              "  </thead>\n",
              "  <tbody>\n",
              "    <tr>\n",
              "      <th>0</th>\n",
              "      <td>CHEMBL199572</td>\n",
              "      <td>CN(C(=O)c1ccc(-c2ccccc2)cc1)c1ccccc1C(=O)O</td>\n",
              "      <td>inactive</td>\n",
              "      <td>42600.0</td>\n",
              "    </tr>\n",
              "    <tr>\n",
              "      <th>1</th>\n",
              "      <td>CHEMBL199574</td>\n",
              "      <td>O=C(Nc1ccccc1C(=O)O)c1ccc2cc(Br)ccc2c1</td>\n",
              "      <td>inactive</td>\n",
              "      <td>142600.0</td>\n",
              "    </tr>\n",
              "    <tr>\n",
              "      <th>2</th>\n",
              "      <td>CHEMBL372561</td>\n",
              "      <td>CN(C(=O)c1ccc2cc(Br)ccc2c1)c1ccccc1C(=O)O</td>\n",
              "      <td>inactive</td>\n",
              "      <td>93400.0</td>\n",
              "    </tr>\n",
              "    <tr>\n",
              "      <th>3</th>\n",
              "      <td>CHEMBL370865</td>\n",
              "      <td>O=C(Nc1ccccc1C(=O)O)c1ccc(-c2ccccc2)cc1</td>\n",
              "      <td>inactive</td>\n",
              "      <td>153500.0</td>\n",
              "    </tr>\n",
              "    <tr>\n",
              "      <th>4</th>\n",
              "      <td>CHEMBL199575</td>\n",
              "      <td>CN(C(=O)c1ccc2ccccc2c1)c1ccccc1C(=O)O</td>\n",
              "      <td>inactive</td>\n",
              "      <td>200000.0</td>\n",
              "    </tr>\n",
              "    <tr>\n",
              "      <th>...</th>\n",
              "      <td>...</td>\n",
              "      <td>...</td>\n",
              "      <td>...</td>\n",
              "      <td>...</td>\n",
              "    </tr>\n",
              "    <tr>\n",
              "      <th>597</th>\n",
              "      <td>CHEMBL4569109</td>\n",
              "      <td>Cn1nc(OCC2CC2)c(C(=O)O)c1COc1ccccc1</td>\n",
              "      <td>inactive</td>\n",
              "      <td>250000.0</td>\n",
              "    </tr>\n",
              "    <tr>\n",
              "      <th>598</th>\n",
              "      <td>CHEMBL4568957</td>\n",
              "      <td>Cn1nc(OCc2ccccc2)c(C(=O)O)c1COc1ccccc1</td>\n",
              "      <td>inactive</td>\n",
              "      <td>250000.0</td>\n",
              "    </tr>\n",
              "    <tr>\n",
              "      <th>599</th>\n",
              "      <td>CHEMBL4449622</td>\n",
              "      <td>Cn1nc(O)c(C(N)=O)c1COc1ccccc1</td>\n",
              "      <td>inactive</td>\n",
              "      <td>250000.0</td>\n",
              "    </tr>\n",
              "    <tr>\n",
              "      <th>600</th>\n",
              "      <td>CHEMBL1956285</td>\n",
              "      <td>Cc1cc(Nc2ccc(S(F)(F)(F)(F)F)cc2)n2nc(C(C)(F)F)...</td>\n",
              "      <td>active</td>\n",
              "      <td>10.0</td>\n",
              "    </tr>\n",
              "    <tr>\n",
              "      <th>601</th>\n",
              "      <td>CHEMBL4545127</td>\n",
              "      <td>Cc1cc(Nc2ccc(S(F)(F)(F)(F)F)c(F)c2)n2nc(C(C)(F...</td>\n",
              "      <td>active</td>\n",
              "      <td>10.0</td>\n",
              "    </tr>\n",
              "  </tbody>\n",
              "</table>\n",
              "<p>602 rows × 4 columns</p>\n",
              "</div>\n",
              "      <button class=\"colab-df-convert\" onclick=\"convertToInteractive('df-b65209bc-17c5-403b-bd7c-0cf6cf63fdfb')\"\n",
              "              title=\"Convert this dataframe to an interactive table.\"\n",
              "              style=\"display:none;\">\n",
              "        \n",
              "  <svg xmlns=\"http://www.w3.org/2000/svg\" height=\"24px\"viewBox=\"0 0 24 24\"\n",
              "       width=\"24px\">\n",
              "    <path d=\"M0 0h24v24H0V0z\" fill=\"none\"/>\n",
              "    <path d=\"M18.56 5.44l.94 2.06.94-2.06 2.06-.94-2.06-.94-.94-2.06-.94 2.06-2.06.94zm-11 1L8.5 8.5l.94-2.06 2.06-.94-2.06-.94L8.5 2.5l-.94 2.06-2.06.94zm10 10l.94 2.06.94-2.06 2.06-.94-2.06-.94-.94-2.06-.94 2.06-2.06.94z\"/><path d=\"M17.41 7.96l-1.37-1.37c-.4-.4-.92-.59-1.43-.59-.52 0-1.04.2-1.43.59L10.3 9.45l-7.72 7.72c-.78.78-.78 2.05 0 2.83L4 21.41c.39.39.9.59 1.41.59.51 0 1.02-.2 1.41-.59l7.78-7.78 2.81-2.81c.8-.78.8-2.07 0-2.86zM5.41 20L4 18.59l7.72-7.72 1.47 1.35L5.41 20z\"/>\n",
              "  </svg>\n",
              "      </button>\n",
              "      \n",
              "  <style>\n",
              "    .colab-df-container {\n",
              "      display:flex;\n",
              "      flex-wrap:wrap;\n",
              "      gap: 12px;\n",
              "    }\n",
              "\n",
              "    .colab-df-convert {\n",
              "      background-color: #E8F0FE;\n",
              "      border: none;\n",
              "      border-radius: 50%;\n",
              "      cursor: pointer;\n",
              "      display: none;\n",
              "      fill: #1967D2;\n",
              "      height: 32px;\n",
              "      padding: 0 0 0 0;\n",
              "      width: 32px;\n",
              "    }\n",
              "\n",
              "    .colab-df-convert:hover {\n",
              "      background-color: #E2EBFA;\n",
              "      box-shadow: 0px 1px 2px rgba(60, 64, 67, 0.3), 0px 1px 3px 1px rgba(60, 64, 67, 0.15);\n",
              "      fill: #174EA6;\n",
              "    }\n",
              "\n",
              "    [theme=dark] .colab-df-convert {\n",
              "      background-color: #3B4455;\n",
              "      fill: #D2E3FC;\n",
              "    }\n",
              "\n",
              "    [theme=dark] .colab-df-convert:hover {\n",
              "      background-color: #434B5C;\n",
              "      box-shadow: 0px 1px 3px 1px rgba(0, 0, 0, 0.15);\n",
              "      filter: drop-shadow(0px 1px 2px rgba(0, 0, 0, 0.3));\n",
              "      fill: #FFFFFF;\n",
              "    }\n",
              "  </style>\n",
              "\n",
              "      <script>\n",
              "        const buttonEl =\n",
              "          document.querySelector('#df-b65209bc-17c5-403b-bd7c-0cf6cf63fdfb button.colab-df-convert');\n",
              "        buttonEl.style.display =\n",
              "          google.colab.kernel.accessAllowed ? 'block' : 'none';\n",
              "\n",
              "        async function convertToInteractive(key) {\n",
              "          const element = document.querySelector('#df-b65209bc-17c5-403b-bd7c-0cf6cf63fdfb');\n",
              "          const dataTable =\n",
              "            await google.colab.kernel.invokeFunction('convertToInteractive',\n",
              "                                                     [key], {});\n",
              "          if (!dataTable) return;\n",
              "\n",
              "          const docLinkHtml = 'Like what you see? Visit the ' +\n",
              "            '<a target=\"_blank\" href=https://colab.research.google.com/notebooks/data_table.ipynb>data table notebook</a>'\n",
              "            + ' to learn more about interactive tables.';\n",
              "          element.innerHTML = '';\n",
              "          dataTable['output_type'] = 'display_data';\n",
              "          await google.colab.output.renderOutput(dataTable, element);\n",
              "          const docLink = document.createElement('div');\n",
              "          docLink.innerHTML = docLinkHtml;\n",
              "          element.appendChild(docLink);\n",
              "        }\n",
              "      </script>\n",
              "    </div>\n",
              "  </div>\n",
              "  "
            ]
          },
          "metadata": {},
          "execution_count": 31
        }
      ]
    },
    {
      "cell_type": "markdown",
      "source": [
        "Saves dataframe to CSV file"
      ],
      "metadata": {
        "id": "er0cI-0aFTlX"
      }
    },
    {
      "cell_type": "code",
      "source": [
        "df3.to_csv('bioactivity_preprocessed1_data.csv', index=False)"
      ],
      "metadata": {
        "id": "PRU7tzPgFVLP"
      },
      "execution_count": null,
      "outputs": []
    },
    {
      "cell_type": "code",
      "source": [
        "! ls -l"
      ],
      "metadata": {
        "colab": {
          "base_uri": "https://localhost:8080/"
        },
        "id": "ouP5_SuuFdEd",
        "outputId": "f9a7496c-4e43-4cbd-d1bb-2c80d262db8d"
      },
      "execution_count": null,
      "outputs": [
        {
          "output_type": "stream",
          "name": "stdout",
          "text": [
            "total 484\n",
            "-rw-r--r-- 1 root root 403372 Nov  5 22:54 bioactivity_data.csv\n",
            "-rw-r--r-- 1 root root  40950 Nov  5 23:23 bioactivity_preprocessed1_data.csv\n",
            "-rw-r--r-- 1 root root  40950 Nov  5 23:17 bioactivity_preprocessed_data.csv\n",
            "drwx------ 5 root root   4096 Nov  5 22:56 gdrive\n",
            "drwxr-xr-x 1 root root   4096 Oct 28 13:37 sample_data\n"
          ]
        }
      ]
    },
    {
      "cell_type": "markdown",
      "source": [
        "Let's copy to the Google Drive"
      ],
      "metadata": {
        "id": "poANXcmEFyTe"
      }
    },
    {
      "cell_type": "code",
      "source": [
        "! cp bioactivity_preprocessed1_data.csv \"/content/gdrive/My Drive/Colab Notebooks/datadh\""
      ],
      "metadata": {
        "id": "JN2q2lr2F4TD"
      },
      "execution_count": null,
      "outputs": []
    },
    {
      "cell_type": "code",
      "source": [
        "! ls \"/content/gdrive/My Drive/Colab Notebooks/datadh\""
      ],
      "metadata": {
        "colab": {
          "base_uri": "https://localhost:8080/"
        },
        "id": "B1Uf7BjwGBSd",
        "outputId": "630b619a-6f84-40dc-d8db-b8f2570e9b74"
      },
      "execution_count": null,
      "outputs": [
        {
          "output_type": "stream",
          "name": "stdout",
          "text": [
            "bioactivity_data.csv\t\t    bioactivity_preprocessed_data.csv\n",
            "bioactivity_preprocessed1_data.csv\n"
          ]
        }
      ]
    }
  ]
}